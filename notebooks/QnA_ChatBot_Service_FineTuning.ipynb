{
 "cells": [
  {
   "cell_type": "markdown",
   "metadata": {},
   "source": [
    "# 데이터\n",
    "---\n",
    "- 데이터는 대화형 데이터로 AI Hub에서 제공하는 데이터 입니다.\n",
    "- 도메인은 A-I까지 9개의 도메인이 있습니다.\n",
    "- A : 음식점, B : 의류, C : 학원, D : 소매점, E : 생활서비스\n",
    "- F : 카페, G : 숙박업, H : 관광여가오락, I : 부동산\n",
    "- 순서형 데이터로, SENTENCE 컬럼이 대화 부분 입니다.\n",
    "- SPEAKERID와 SENTENCEID를 이용해 순서형 대화를 QAQ, AQA와 같이 만들어 줬습니다.\n",
    "- 해당 데이터의 예시는 다음과 같습니다."
   ]
  },
  {
   "cell_type": "code",
   "execution_count": 1,
   "metadata": {},
   "outputs": [],
   "source": [
    "import pandas as pd\n",
    "\n",
    "data = pd.read_excel(\"E:\\dialog\\D 소매점(14,949).xlsx\")"
   ]
  },
  {
   "cell_type": "code",
   "execution_count": 2,
   "metadata": {},
   "outputs": [
    {
     "data": {
      "text/html": [
       "<div>\n",
       "<style scoped>\n",
       "    .dataframe tbody tr th:only-of-type {\n",
       "        vertical-align: middle;\n",
       "    }\n",
       "\n",
       "    .dataframe tbody tr th {\n",
       "        vertical-align: top;\n",
       "    }\n",
       "\n",
       "    .dataframe thead th {\n",
       "        text-align: right;\n",
       "    }\n",
       "</style>\n",
       "<table border=\"1\" class=\"dataframe\">\n",
       "  <thead>\n",
       "    <tr style=\"text-align: right;\">\n",
       "      <th></th>\n",
       "      <th>SPEAKER</th>\n",
       "      <th>SENTENCE</th>\n",
       "      <th>DOMAINID</th>\n",
       "      <th>DOMAIN</th>\n",
       "      <th>CATEGORY</th>\n",
       "      <th>SPEAKERID</th>\n",
       "      <th>SENTENCEID</th>\n",
       "      <th>MAIN</th>\n",
       "      <th>SUB</th>\n",
       "      <th>QA</th>\n",
       "      <th>QACNCT</th>\n",
       "      <th>MQ</th>\n",
       "      <th>SQ</th>\n",
       "      <th>UA</th>\n",
       "      <th>SA</th>\n",
       "      <th>개체명</th>\n",
       "      <th>용어사전</th>\n",
       "      <th>지식베이스</th>\n",
       "    </tr>\n",
       "  </thead>\n",
       "  <tbody>\n",
       "    <tr>\n",
       "      <th>0</th>\n",
       "      <td>고객</td>\n",
       "      <td>삼겹살 1근에 얼마에요?</td>\n",
       "      <td>D</td>\n",
       "      <td>소매</td>\n",
       "      <td>정육점</td>\n",
       "      <td>1</td>\n",
       "      <td>1</td>\n",
       "      <td>가격 문의</td>\n",
       "      <td>NaN</td>\n",
       "      <td>Q</td>\n",
       "      <td>NaN</td>\n",
       "      <td>삼겹살 1근에 얼마에요?</td>\n",
       "      <td>NaN</td>\n",
       "      <td>NaN</td>\n",
       "      <td>NaN</td>\n",
       "      <td>삼겹살, 1근</td>\n",
       "      <td>NaN</td>\n",
       "      <td>삼겹살/부위, 1근/중량</td>\n",
       "    </tr>\n",
       "    <tr>\n",
       "      <th>1</th>\n",
       "      <td>점원</td>\n",
       "      <td>만원입니다</td>\n",
       "      <td>D</td>\n",
       "      <td>소매</td>\n",
       "      <td>정육점</td>\n",
       "      <td>0</td>\n",
       "      <td>2</td>\n",
       "      <td>가격 문의</td>\n",
       "      <td>NaN</td>\n",
       "      <td>A</td>\n",
       "      <td>NaN</td>\n",
       "      <td>NaN</td>\n",
       "      <td>NaN</td>\n",
       "      <td>NaN</td>\n",
       "      <td>만원입니다</td>\n",
       "      <td>만원</td>\n",
       "      <td>NaN</td>\n",
       "      <td>만원/금액</td>\n",
       "    </tr>\n",
       "    <tr>\n",
       "      <th>2</th>\n",
       "      <td>고객</td>\n",
       "      <td>넷이 먹을건데 2근이면 되나요?</td>\n",
       "      <td>D</td>\n",
       "      <td>소매</td>\n",
       "      <td>정육점</td>\n",
       "      <td>1</td>\n",
       "      <td>3</td>\n",
       "      <td>0인분 용량 문의</td>\n",
       "      <td>NaN</td>\n",
       "      <td>Q</td>\n",
       "      <td>NaN</td>\n",
       "      <td>넷이 먹을 건데 2근이면 되나요?</td>\n",
       "      <td>NaN</td>\n",
       "      <td>NaN</td>\n",
       "      <td>NaN</td>\n",
       "      <td>넷, 2근</td>\n",
       "      <td>NaN</td>\n",
       "      <td>넷/인원, 2근/중량</td>\n",
       "    </tr>\n",
       "    <tr>\n",
       "      <th>3</th>\n",
       "      <td>점원</td>\n",
       "      <td>네 충분하세요</td>\n",
       "      <td>D</td>\n",
       "      <td>소매</td>\n",
       "      <td>정육점</td>\n",
       "      <td>0</td>\n",
       "      <td>4</td>\n",
       "      <td>0인분 용량 문의</td>\n",
       "      <td>NaN</td>\n",
       "      <td>A</td>\n",
       "      <td>NaN</td>\n",
       "      <td>NaN</td>\n",
       "      <td>NaN</td>\n",
       "      <td>NaN</td>\n",
       "      <td>네 충분하세요</td>\n",
       "      <td>NaN</td>\n",
       "      <td>NaN</td>\n",
       "      <td>NaN</td>\n",
       "    </tr>\n",
       "    <tr>\n",
       "      <th>4</th>\n",
       "      <td>고객</td>\n",
       "      <td>그럼 2근주세요</td>\n",
       "      <td>D</td>\n",
       "      <td>소매</td>\n",
       "      <td>정육점</td>\n",
       "      <td>1</td>\n",
       "      <td>5</td>\n",
       "      <td>용량별 고기 주문</td>\n",
       "      <td>NaN</td>\n",
       "      <td>Q</td>\n",
       "      <td>NaN</td>\n",
       "      <td>그럼 2근 주세요</td>\n",
       "      <td>NaN</td>\n",
       "      <td>NaN</td>\n",
       "      <td>NaN</td>\n",
       "      <td>2근</td>\n",
       "      <td>NaN</td>\n",
       "      <td>2근/중량</td>\n",
       "    </tr>\n",
       "    <tr>\n",
       "      <th>...</th>\n",
       "      <td>...</td>\n",
       "      <td>...</td>\n",
       "      <td>...</td>\n",
       "      <td>...</td>\n",
       "      <td>...</td>\n",
       "      <td>...</td>\n",
       "      <td>...</td>\n",
       "      <td>...</td>\n",
       "      <td>...</td>\n",
       "      <td>...</td>\n",
       "      <td>...</td>\n",
       "      <td>...</td>\n",
       "      <td>...</td>\n",
       "      <td>...</td>\n",
       "      <td>...</td>\n",
       "      <td>...</td>\n",
       "      <td>...</td>\n",
       "      <td>...</td>\n",
       "    </tr>\n",
       "    <tr>\n",
       "      <th>14944</th>\n",
       "      <td>고객</td>\n",
       "      <td>이 떡들 다 포장 되어있는거 맞죠?</td>\n",
       "      <td>D</td>\n",
       "      <td>소매</td>\n",
       "      <td>떡집</td>\n",
       "      <td>1</td>\n",
       "      <td>947</td>\n",
       "      <td>포장 상품 구매 확인</td>\n",
       "      <td>NaN</td>\n",
       "      <td>Q</td>\n",
       "      <td>NaN</td>\n",
       "      <td>이 떡들 다 포장 되어있는거 맞죠?</td>\n",
       "      <td>NaN</td>\n",
       "      <td>NaN</td>\n",
       "      <td>NaN</td>\n",
       "      <td>NaN</td>\n",
       "      <td>NaN</td>\n",
       "      <td>NaN</td>\n",
       "    </tr>\n",
       "    <tr>\n",
       "      <th>14945</th>\n",
       "      <td>고객</td>\n",
       "      <td>한 박스로도 포장 되는거죠?</td>\n",
       "      <td>D</td>\n",
       "      <td>소매</td>\n",
       "      <td>떡집</td>\n",
       "      <td>1</td>\n",
       "      <td>948</td>\n",
       "      <td>포장단위 문의</td>\n",
       "      <td>NaN</td>\n",
       "      <td>Q</td>\n",
       "      <td>NaN</td>\n",
       "      <td>한 박스로도 포장 되는거죠?</td>\n",
       "      <td>NaN</td>\n",
       "      <td>NaN</td>\n",
       "      <td>NaN</td>\n",
       "      <td>NaN</td>\n",
       "      <td>NaN</td>\n",
       "      <td>NaN</td>\n",
       "    </tr>\n",
       "    <tr>\n",
       "      <th>14946</th>\n",
       "      <td>고객</td>\n",
       "      <td>박스 말고 그냥 팩 단위로 포장해주실 수 있나요?</td>\n",
       "      <td>D</td>\n",
       "      <td>소매</td>\n",
       "      <td>떡집</td>\n",
       "      <td>1</td>\n",
       "      <td>949</td>\n",
       "      <td>포장단위 문의</td>\n",
       "      <td>NaN</td>\n",
       "      <td>Q</td>\n",
       "      <td>NaN</td>\n",
       "      <td>박스 말고 그냥 팩 단위로 포장해주실 수 있나요?</td>\n",
       "      <td>NaN</td>\n",
       "      <td>NaN</td>\n",
       "      <td>NaN</td>\n",
       "      <td>NaN</td>\n",
       "      <td>NaN</td>\n",
       "      <td>NaN</td>\n",
       "    </tr>\n",
       "    <tr>\n",
       "      <th>14947</th>\n",
       "      <td>고객</td>\n",
       "      <td>포장하는게 너무 커서 좀 적게 포장해주시면 좋을 것 같은데요?</td>\n",
       "      <td>D</td>\n",
       "      <td>소매</td>\n",
       "      <td>떡집</td>\n",
       "      <td>1</td>\n",
       "      <td>950</td>\n",
       "      <td>포장단위 문의</td>\n",
       "      <td>NaN</td>\n",
       "      <td>Q</td>\n",
       "      <td>NaN</td>\n",
       "      <td>포장하는게 너무 커서 좀 적게 포장해주시면 좋을 것 같은데요?</td>\n",
       "      <td>NaN</td>\n",
       "      <td>NaN</td>\n",
       "      <td>NaN</td>\n",
       "      <td>NaN</td>\n",
       "      <td>NaN</td>\n",
       "      <td>NaN</td>\n",
       "    </tr>\n",
       "    <tr>\n",
       "      <th>14948</th>\n",
       "      <td>고객</td>\n",
       "      <td>모든 떡이 다 상자 포장이 가능한거죠?</td>\n",
       "      <td>D</td>\n",
       "      <td>소매</td>\n",
       "      <td>떡집</td>\n",
       "      <td>1</td>\n",
       "      <td>951</td>\n",
       "      <td>포장단위 문의</td>\n",
       "      <td>NaN</td>\n",
       "      <td>Q</td>\n",
       "      <td>NaN</td>\n",
       "      <td>모든 떡이 다 상자 포장이 가능한거죠?</td>\n",
       "      <td>NaN</td>\n",
       "      <td>NaN</td>\n",
       "      <td>NaN</td>\n",
       "      <td>NaN</td>\n",
       "      <td>NaN</td>\n",
       "      <td>NaN</td>\n",
       "    </tr>\n",
       "  </tbody>\n",
       "</table>\n",
       "<p>14949 rows × 18 columns</p>\n",
       "</div>"
      ],
      "text/plain": [
       "      SPEAKER                            SENTENCE DOMAINID DOMAIN CATEGORY  \\\n",
       "0          고객                       삼겹살 1근에 얼마에요?        D     소매      정육점   \n",
       "1          점원                               만원입니다        D     소매      정육점   \n",
       "2          고객                   넷이 먹을건데 2근이면 되나요?        D     소매      정육점   \n",
       "3          점원                             네 충분하세요        D     소매      정육점   \n",
       "4          고객                            그럼 2근주세요        D     소매      정육점   \n",
       "...       ...                                 ...      ...    ...      ...   \n",
       "14944      고객                 이 떡들 다 포장 되어있는거 맞죠?        D     소매       떡집   \n",
       "14945      고객                     한 박스로도 포장 되는거죠?        D     소매       떡집   \n",
       "14946      고객         박스 말고 그냥 팩 단위로 포장해주실 수 있나요?        D     소매       떡집   \n",
       "14947      고객  포장하는게 너무 커서 좀 적게 포장해주시면 좋을 것 같은데요?        D     소매       떡집   \n",
       "14948      고객               모든 떡이 다 상자 포장이 가능한거죠?        D     소매       떡집   \n",
       "\n",
       "       SPEAKERID  SENTENCEID         MAIN  SUB QA  QACNCT  \\\n",
       "0              1           1        가격 문의  NaN  Q     NaN   \n",
       "1              0           2        가격 문의  NaN  A     NaN   \n",
       "2              1           3    0인분 용량 문의  NaN  Q     NaN   \n",
       "3              0           4    0인분 용량 문의  NaN  A     NaN   \n",
       "4              1           5    용량별 고기 주문  NaN  Q     NaN   \n",
       "...          ...         ...          ...  ... ..     ...   \n",
       "14944          1         947  포장 상품 구매 확인  NaN  Q     NaN   \n",
       "14945          1         948      포장단위 문의  NaN  Q     NaN   \n",
       "14946          1         949      포장단위 문의  NaN  Q     NaN   \n",
       "14947          1         950      포장단위 문의  NaN  Q     NaN   \n",
       "14948          1         951      포장단위 문의  NaN  Q     NaN   \n",
       "\n",
       "                                       MQ   SQ   UA       SA      개체명 용어사전  \\\n",
       "0                           삼겹살 1근에 얼마에요?  NaN  NaN      NaN  삼겹살, 1근  NaN   \n",
       "1                                     NaN  NaN  NaN    만원입니다       만원  NaN   \n",
       "2                      넷이 먹을 건데 2근이면 되나요?  NaN  NaN      NaN    넷, 2근  NaN   \n",
       "3                                     NaN  NaN  NaN  네 충분하세요      NaN  NaN   \n",
       "4                               그럼 2근 주세요  NaN  NaN      NaN       2근  NaN   \n",
       "...                                   ...  ...  ...      ...      ...  ...   \n",
       "14944                 이 떡들 다 포장 되어있는거 맞죠?  NaN  NaN      NaN      NaN  NaN   \n",
       "14945                     한 박스로도 포장 되는거죠?  NaN  NaN      NaN      NaN  NaN   \n",
       "14946         박스 말고 그냥 팩 단위로 포장해주실 수 있나요?  NaN  NaN      NaN      NaN  NaN   \n",
       "14947  포장하는게 너무 커서 좀 적게 포장해주시면 좋을 것 같은데요?  NaN  NaN      NaN      NaN  NaN   \n",
       "14948               모든 떡이 다 상자 포장이 가능한거죠?  NaN  NaN      NaN      NaN  NaN   \n",
       "\n",
       "               지식베이스  \n",
       "0      삼겹살/부위, 1근/중량  \n",
       "1              만원/금액  \n",
       "2        넷/인원, 2근/중량  \n",
       "3                NaN  \n",
       "4              2근/중량  \n",
       "...              ...  \n",
       "14944            NaN  \n",
       "14945            NaN  \n",
       "14946            NaN  \n",
       "14947            NaN  \n",
       "14948            NaN  \n",
       "\n",
       "[14949 rows x 18 columns]"
      ]
     },
     "execution_count": 2,
     "metadata": {},
     "output_type": "execute_result"
    }
   ],
   "source": [
    "data"
   ]
  },
  {
   "cell_type": "markdown",
   "metadata": {},
   "source": [
    "## 전처리된 데이터\n",
    "\n",
    "- QAQ와 AQA는 `(back-tick) 으로 구분지었습니다."
   ]
  },
  {
   "cell_type": "code",
   "execution_count": 3,
   "metadata": {},
   "outputs": [
    {
     "data": {
      "text/plain": [
       "'지금 배달되나요?`아 네 배달됩니다`짬뽕류는 어떤 게 있나요? 잘 나가는 짬뽕 있나요?\\n'"
      ]
     },
     "execution_count": 3,
     "metadata": {},
     "output_type": "execute_result"
    }
   ],
   "source": [
    "with open(r\"E:\\dialog\\all_data.txt\", 'rt', encoding='utf-8') as f:\n",
    "    data = f.readline()\n",
    "data"
   ]
  },
  {
   "cell_type": "markdown",
   "metadata": {},
   "source": [
    "# 데이터 로더\n",
    "\n",
    "- 위의 data를 불러올 데이터 로더 클래스를 선언 합니다.\n",
    "- 앞서 전처리 해둔 데이터를 가져옵니다."
   ]
  },
  {
   "cell_type": "code",
   "execution_count": 4,
   "metadata": {},
   "outputs": [],
   "source": [
    "from torch.utils.data import Dataset, DataLoader\n",
    "\n",
    "\n",
    "class ServiceConversationDataset(Dataset):\n",
    "    def __init__(self, data_path):\n",
    "        self.conversation_data = []\n",
    "        with open(data_path, 'rt', encoding='utf-8') as f:\n",
    "            data = f.read().split(\"\\n\")\n",
    "            for line in data:\n",
    "                self.conversation_data.append(\"<s> \" + line.replace(\"`\", \" <s> \") + \" </s>\")\n",
    "\n",
    "    def __len__(self):\n",
    "        return len(self.conversation_data)\n",
    "\n",
    "    def __getitem__(self, idx):\n",
    "        return self.conversation_data[idx]"
   ]
  },
  {
   "cell_type": "markdown",
   "metadata": {},
   "source": [
    "## 디바이스 설정"
   ]
  },
  {
   "cell_type": "code",
   "execution_count": 5,
   "metadata": {},
   "outputs": [],
   "source": [
    "import torch\n",
    "\n",
    "device = 'cpu'\n",
    "if torch.cuda.is_available():\n",
    "    device = 'cuda'"
   ]
  },
  {
   "cell_type": "markdown",
   "metadata": {},
   "source": [
    "## 파라미터 설정\n",
    "\n",
    "- BATCH_SIZE : 데이터 로더의 배치 사이즈를 설정합니다.\n",
    "- EPOCHS : Fine-Tuning할 Epoch을 설정합니다.\n",
    "- LEARNING_RATE : 모델 학습시, lr을 설정합니다.\n",
    "- WARMUP_STEPS : 스케쥴러의 warmup을 진행할 step을 설정합니다.\n",
    "- DATA_PATH : Fine-Tuning에 사용할 데이터 경로를 지정합니다.\n",
    "- MODEL_TYPE : 허깅페이스의 KoGPT-2를 설정합니다.\n",
    "- OUTPUT_MODEL_PATH : 모델 저장 경로를 지정해 줍니다."
   ]
  },
  {
   "cell_type": "code",
   "execution_count": 6,
   "metadata": {},
   "outputs": [],
   "source": [
    "BATCH_SIZE = 4\n",
    "EPOCHS = 3\n",
    "LEARNING_RATE = 3e-5\n",
    "WARMUP_STEPS = 100\n",
    "MAX_SEQ_LEN = 100\n",
    "DATA_PATH = r\"E:\\dialog\\all_data.txt\"\n",
    "MODEL_TYPE = \"taeminlee/kogpt2\"\n",
    "OUTPUT_MODEL_PATH = r\"E:\\online_task\\service_conversation\\temp\""
   ]
  },
  {
   "cell_type": "markdown",
   "metadata": {},
   "source": [
    "## Pre-trained MODEL LOAD\n",
    "- 허깅페이스의 KoGPT2모델 및 tokenizer를 Load합니다."
   ]
  },
  {
   "cell_type": "code",
   "execution_count": 7,
   "metadata": {},
   "outputs": [],
   "source": [
    "from transformers import GPT2LMHeadModel, PreTrainedTokenizerFast\n",
    "\n",
    "\n",
    "model = GPT2LMHeadModel.from_pretrained(MODEL_TYPE)\n",
    "tokenizer = PreTrainedTokenizerFast.from_pretrained(MODEL_TYPE)"
   ]
  },
  {
   "cell_type": "markdown",
   "metadata": {},
   "source": [
    "## dataset 생성 및 dataloader 생성"
   ]
  },
  {
   "cell_type": "code",
   "execution_count": 8,
   "metadata": {},
   "outputs": [],
   "source": [
    "dataset = ServiceConversationDataset(DATA_PATH)\n",
    "data_loader = DataLoader(dataset, batch_size=BATCH_SIZE, shuffle=True)"
   ]
  },
  {
   "cell_type": "code",
   "execution_count": 9,
   "metadata": {},
   "outputs": [
    {
     "name": "stdout",
     "output_type": "stream",
     "text": [
      "['<s> 샌드위치 다 여기서 하는 거예요? <s> 샌드위치는 저희가 수제로 만들어요 <s> 빵은 서울에서 내려오는 거예요? </s>', '<s> 시간이 없는데 빨리 나오는 메뉴는 뭔가요? <s> 파스타 종류는 거의 빨리 나옵니다 <s> 피클 좀 더 주시겠어요? </s>', '<s> 제가 혼자 해요 <s> 한 곡을 치려면 얼마나 걸리죠? <s> 취미로 하시는거에요? </s>', '<s> 블루베리 주스 한 잔 주세요 <s> 네, 블루베르 주스 한 잔 준비해드릴게요 <s> 영수증 좀 주세요 </s>']\n"
     ]
    }
   ],
   "source": [
    "for d in data_loader:\n",
    "    print(d)\n",
    "    break"
   ]
  },
  {
   "cell_type": "markdown",
   "metadata": {},
   "source": [
    "## Fine-Tune Phase"
   ]
  },
  {
   "cell_type": "code",
   "execution_count": 10,
   "metadata": {},
   "outputs": [],
   "source": [
    "from transformers import AdamW, get_linear_schedule_with_warmup\n",
    "\n",
    "\n",
    "# 모델을 GPU로 보냅니다.\n",
    "model = model.to(device)\n",
    "\n",
    "# 모델을 학습하기위해 Optimizer와 scheduler를 선언 합니다.\n",
    "model.train()\n",
    "optimizier = AdamW(model.parameters(), lr=LEARNING_RATE)\n",
    "scheduler = get_linear_schedule_with_warmup(optimizier, WARMUP_STEPS, len(data_loader) - WARMUP_STEPS, -1)"
   ]
  },
  {
   "cell_type": "markdown",
   "metadata": {},
   "source": [
    "모델 저장할 곳이 없을 경우 생성합니다."
   ]
  },
  {
   "cell_type": "code",
   "execution_count": 11,
   "metadata": {},
   "outputs": [],
   "source": [
    "import os\n",
    "\n",
    "\n",
    "if not os.path.exists(OUTPUT_MODEL_PATH):\n",
    "    os.mkdir(OUTPUT_MODEL_PATH)"
   ]
  },
  {
   "cell_type": "markdown",
   "metadata": {},
   "source": [
    "unknown_token을 가져옵니다."
   ]
  },
  {
   "cell_type": "code",
   "execution_count": 12,
   "metadata": {},
   "outputs": [],
   "source": [
    "unknown_token = tokenizer.unk_token_id"
   ]
  },
  {
   "cell_type": "markdown",
   "metadata": {},
   "source": [
    "모델 FineTuning 코드입니다.\n",
    "(전처리 단계에서 미리 Q와 A를 합쳐두는 것이 좋을 것 같습니다.)\n",
    "\n",
    "\n",
    "우선, 해당 코드를 실행했습니다."
   ]
  },
  {
   "cell_type": "code",
   "execution_count": 13,
   "metadata": {},
   "outputs": [
    {
     "name": "stdout",
     "output_type": "stream",
     "text": [
      "EPOCH : 0, started==============================\n"
     ]
    },
    {
     "data": {
      "application/vnd.jupyter.widget-view+json": {
       "model_id": "a8a1f33161164c85ad65ff4dfab21fc1",
       "version_major": 2,
       "version_minor": 0
      },
      "text/plain": [
       "HBox(children=(FloatProgress(value=0.0, description='Train Epoch #0', max=19979.0, style=ProgressStyle(descrip…"
      ]
     },
     "metadata": {},
     "output_type": "display_data"
    },
    {
     "name": "stdout",
     "output_type": "stream",
     "text": [
      "\n",
      "EPOCH : 1, started==============================\n"
     ]
    },
    {
     "data": {
      "application/vnd.jupyter.widget-view+json": {
       "model_id": "ddeee4318de442eab7bf2ec0026b8314",
       "version_major": 2,
       "version_minor": 0
      },
      "text/plain": [
       "HBox(children=(FloatProgress(value=0.0, description='Train Epoch #1', max=19979.0, style=ProgressStyle(descrip…"
      ]
     },
     "metadata": {},
     "output_type": "display_data"
    },
    {
     "name": "stdout",
     "output_type": "stream",
     "text": [
      "\n",
      "EPOCH : 2, started==============================\n"
     ]
    },
    {
     "data": {
      "application/vnd.jupyter.widget-view+json": {
       "model_id": "97d4d71bae084ad9aebadc20fedf1a65",
       "version_major": 2,
       "version_minor": 0
      },
      "text/plain": [
       "HBox(children=(FloatProgress(value=0.0, description='Train Epoch #2', max=19979.0, style=ProgressStyle(descrip…"
      ]
     },
     "metadata": {},
     "output_type": "display_data"
    },
    {
     "name": "stdout",
     "output_type": "stream",
     "text": [
      "\n"
     ]
    }
   ],
   "source": [
    "from tqdm.notebook import tqdm\n",
    "\n",
    "\n",
    "for epoch in range(EPOCHS):\n",
    "    print(f'EPOCH : {epoch}, started' + \"=\" * 30)\n",
    "    proc_seq_count = 0\n",
    "    total_loss = 0.0\n",
    "    total_count = 0\n",
    "    temp_count = 0   # 노트북에서 보여드리기 위한 변수입니다.\n",
    "    # 실제 실행시, temp_count와 관련된 코드들은 삭제해주세요.\n",
    "    # 여기 부분\n",
    "    with tqdm(data_loader, desc=\"Train Epoch #{}\".format(epoch)) as t:\n",
    "        for idx, data in enumerate(t):\n",
    "            if temp_count > 5: # 여기\n",
    "                break          # 여기\n",
    "            temp_count += 1    # 여기\n",
    "            train_ids = tokenizer.encode(data[0])\n",
    "\n",
    "            for i, token in enumerate(train_ids):\n",
    "                if token >= tokenizer.vocab_size:\n",
    "                    train_ids[i] = unknown_token\n",
    "            train_ids = torch.tensor(train_ids).to(device)\n",
    "            outputs = model(train_ids, labels=train_ids)\n",
    "            loss, logits = outputs[:2]\n",
    "            loss.backward()\n",
    "            total_loss += loss.detach().data\n",
    "            total_count += 1\n",
    "            t.set_postfix(loss='{:.6f}'.format(total_loss / total_count))\n",
    "            optimizier.step()\n",
    "            scheduler.step()\n",
    "            optimizier.zero_grad()\n",
    "            scheduler.optimizer.zero_grad()\n",
    "\n",
    "            if idx % 5000 == 1:\n",
    "                torch.save(model.state_dict(), os.path.join(OUTPUT_MODEL_PATH, f\"KoGPT2_KoDialog_{epoch}_{idx}.pt\"))\n",
    "        torch.save(model.state_dict(), os.path.join(OUTPUT_MODEL_PATH, f\"KoGPT2_KoDialog_{epoch}.pt\"))"
   ]
  },
  {
   "cell_type": "markdown",
   "metadata": {},
   "source": [
    "## Sentence-Generate\n",
    "- FINETUNE_MODEL_PATH : 학습된 모델의 가중치 경로를 설정합니다."
   ]
  },
  {
   "cell_type": "code",
   "execution_count": 14,
   "metadata": {},
   "outputs": [],
   "source": [
    "FINETUNE_MODEL_PATH = r\"E:\\online_task\\service_conversation\\KoGPT2_KoDialog_2.pt\""
   ]
  },
  {
   "cell_type": "markdown",
   "metadata": {},
   "source": [
    "QnA_Service_MODEL에 해당 가중치를 불러와 load 시켜 줍니다."
   ]
  },
  {
   "cell_type": "code",
   "execution_count": 15,
   "metadata": {},
   "outputs": [
    {
     "data": {
      "text/plain": [
       "<All keys matched successfully>"
      ]
     },
     "execution_count": 15,
     "metadata": {},
     "output_type": "execute_result"
    }
   ],
   "source": [
    "QnA_Service_MODEL = GPT2LMHeadModel.from_pretrained(\"taeminlee/kogpt2\")\n",
    "QnA_Service_MODEL.load_state_dict(torch.load(FINETUNE_MODEL_PATH))"
   ]
  },
  {
   "cell_type": "code",
   "execution_count": 16,
   "metadata": {},
   "outputs": [],
   "source": [
    "example_text = \"삼겹살 1근에 얼마에요?\"\n",
    "encoded_text = tokenizer.encode(example_text, add_special_tokens=True, return_tensors=\"pt\")"
   ]
  },
  {
   "cell_type": "code",
   "execution_count": 17,
   "metadata": {},
   "outputs": [
    {
     "data": {
      "text/plain": [
       "tensor([[26487,   106, 47667, 47442,  2288, 21888, 47774]])"
      ]
     },
     "execution_count": 17,
     "metadata": {},
     "output_type": "execute_result"
    }
   ],
   "source": [
    "encoded_text"
   ]
  },
  {
   "cell_type": "code",
   "execution_count": 18,
   "metadata": {},
   "outputs": [
    {
     "name": "stderr",
     "output_type": "stream",
     "text": [
      "Setting `pad_token_id` to `eos_token_id`:50256 for open-end generation.\n",
      "C:\\Users\\loveg\\Anaconda3\\lib\\site-packages\\transformers\\generation_utils.py:963: UserWarning: `max_length` is deprecated in this function, use `stopping_criteria=StoppingCriteriaList(MaxLengthCriteria(max_length=max_length))` instead.\n",
      "  warnings.warn(\n"
     ]
    }
   ],
   "source": [
    "generated_sentence = QnA_Service_MODEL.generate(encoded_text)"
   ]
  },
  {
   "cell_type": "code",
   "execution_count": 19,
   "metadata": {},
   "outputs": [
    {
     "data": {
      "text/plain": [
       "tensor([[26487,   106, 47667, 47442,  2288, 21888, 47774, 47437,     0,   106,\n",
       "         47667, 47442,   191,   209, 19991, 47437,     0, 26487, 47459,  2288]])"
      ]
     },
     "execution_count": 19,
     "metadata": {},
     "output_type": "execute_result"
    }
   ],
   "source": [
    "generated_sentence"
   ]
  },
  {
   "cell_type": "code",
   "execution_count": 20,
   "metadata": {},
   "outputs": [],
   "source": [
    "decoded_text = tokenizer.decode(generated_sentence[0], skip_special_tokens=True)"
   ]
  },
  {
   "cell_type": "code",
   "execution_count": 21,
   "metadata": {},
   "outputs": [
    {
     "data": {
      "text/plain": [
       "'삼겹살 1근에 얼마에요?  1근에 만 원이에요  삼겹살은 얼마'"
      ]
     },
     "execution_count": 21,
     "metadata": {},
     "output_type": "execute_result"
    }
   ],
   "source": [
    "decoded_text"
   ]
  },
  {
   "cell_type": "code",
   "execution_count": null,
   "metadata": {},
   "outputs": [],
   "source": []
  },
  {
   "cell_type": "code",
   "execution_count": null,
   "metadata": {},
   "outputs": [],
   "source": []
  }
 ],
 "metadata": {
  "kernelspec": {
   "display_name": "Python 3",
   "language": "python",
   "name": "python3"
  },
  "language_info": {
   "codemirror_mode": {
    "name": "ipython",
    "version": 3
   },
   "file_extension": ".py",
   "mimetype": "text/x-python",
   "name": "python",
   "nbconvert_exporter": "python",
   "pygments_lexer": "ipython3",
   "version": "3.8.3"
  }
 },
 "nbformat": 4,
 "nbformat_minor": 4
}
